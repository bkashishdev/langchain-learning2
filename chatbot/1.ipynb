{
 "cells": [
  {
   "cell_type": "code",
   "execution_count": 5,
   "id": "86596ecf",
   "metadata": {},
   "outputs": [],
   "source": [
    "from dotenv import load_dotenv\n",
    "load_dotenv()\n",
    "import os \n",
    "import bs4\n",
    "from langchain_community.document_loaders import WebBaseLoader\n",
    "from langchain_text_splitters import RecursiveCharacterTextSplitter\n",
    "from langchain_community.embeddings import OllamaEmbeddings\n",
    "from langchain_community.vectorstores import Chroma\n",
    "from langchain_groq import ChatGroq\n",
    "grokapikey=os.getenv(\"GROQ_API_KEY\")\n",
    "model=ChatGroq(model=\"deepseek-r1-distill-llama-70b\",api_key=grokapikey)\n",
    "from langchain_core.prompts import ChatPromptTemplate\n",
    "# os.environ[\"HF_TOKEN\"]=os.getenv(\"HF_TOKEN\")\n",
    "from langchain.chains import create_retrieval_chain\n",
    "from langchain.chains.combine_documents import create_stuff_documents_chain\n",
    "\n",
    "# loader=WebBaseLoader(web_path=(\"https://medium.com/@vinitgela/the-rise-of-ai-agents-91f93379c0c8\"))\n",
    "\n",
    "loader=WebBaseLoader(web_path=\"https://medium.com/new-writers-welcome/what-is-mini-blogging-how-can-you-leverage-it-to-grow-your-digital-presence-bb4083d6698f\")\n",
    "\n",
    "docs=loader.load()\n",
    "splittedtext=RecursiveCharacterTextSplitter(chunk_size=500,chunk_overlap=50)\n",
    "\n",
    "\n",
    "\n",
    "\n",
    "\n",
    "\n",
    "\n",
    "\n",
    "\n",
    "\n"
   ]
  },
  {
   "cell_type": "code",
   "execution_count": 6,
   "id": "80f8e0b7",
   "metadata": {},
   "outputs": [],
   "source": [
    "splitdocs=splittedtext.split_documents(docs)\n",
    "embeddings=OllamaEmbeddings(model=\"gemma:2b\")\n",
    "db=Chroma.from_documents(splitdocs,embedding=embeddings)\n"
   ]
  },
  {
   "cell_type": "code",
   "execution_count": 10,
   "id": "8d5cce4a",
   "metadata": {},
   "outputs": [],
   "source": [
    "retriever=db.as_retriever()"
   ]
  },
  {
   "cell_type": "code",
   "execution_count": 11,
   "id": "9d65f6f0",
   "metadata": {},
   "outputs": [
    {
     "data": {
      "text/plain": [
       "{'input': 'What Is Mini-blogging',\n",
       " 'context': [Document(metadata={'description': 'Dear friends, my life as a creator has been enriching so far. Every day, I am learning something new, which is a refreshing experience. Lately, I have started adding another CTA at the bottom of my…', 'source': 'https://medium.com/new-writers-welcome/what-is-mini-blogging-how-can-you-leverage-it-to-grow-your-digital-presence-bb4083d6698f', 'title': 'What Is Mini-blogging & How Can You Leverage It To Grow Your Digital Presence? | by Drashti Shroff | New Writers Welcome | Medium', 'language': 'en'}, page_content='Twitter a lot. I am actively working to build a community there.In my last article, one of my favorite writers on Medium had asked me —What is mini-blogging on Twitter and is it monetized?This question made me think.A lot of us writers do it, simply unaware of it.This led me to do a small research on it and by the technicality of it, mini-blogging means —It is the concept of small, succinct chunks of content, usually under 200 words that you can post easily on some sort of third-party website'),\n",
       "  Document(metadata={'title': 'What Is Mini-blogging & How Can You Leverage It To Grow Your Digital Presence? | by Drashti Shroff | New Writers Welcome | Medium', 'language': 'en', 'source': 'https://medium.com/new-writers-welcome/what-is-mini-blogging-how-can-you-leverage-it-to-grow-your-digital-presence-bb4083d6698f', 'description': 'Dear friends, my life as a creator has been enriching so far. Every day, I am learning something new, which is a refreshing experience. Lately, I have started adding another CTA at the bottom of my…'}, page_content='post easily on some sort of third-party website like Facebook or Twitter.In his article What Is Mini-blogging and Why Is It Important, William C. further explains that —It’s basically a short version of a blog that allows you to share small elements of content, such as single sentences, images, GIFs, infographics, videos, links, and audio clips with your audiences.By that definition, if you are on any of the socials, including Medium and if you post any piece of content (less than 300 words) in'),\n",
       "  Document(metadata={'language': 'en', 'description': 'Dear friends, my life as a creator has been enriching so far. Every day, I am learning something new, which is a refreshing experience. Lately, I have started adding another CTA at the bottom of my…', 'source': 'https://medium.com/new-writers-welcome/what-is-mini-blogging-how-can-you-leverage-it-to-grow-your-digital-presence-bb4083d6698f', 'title': 'What Is Mini-blogging & How Can You Leverage It To Grow Your Digital Presence? | by Drashti Shroff | New Writers Welcome | Medium'}, page_content='any piece of content (less than 300 words) in any form, you are a mini-blogger!Yes friends, it is as simple as that.We all do mini-blogging. It is also called as micro-blogging.There are 3 good reasons why many creators are shifting to mini-blogging:To address the decreasing…----39FollowPublished in New Writers Welcome34K Followers·Last published\\xa0just nowSupporting new writers to the Medium platformFollowFollowWritten by Drashti Shroff1.97K Followers·293 FollowingWriter | Reader | Wife |'),\n",
       "  Document(metadata={'language': 'en', 'source': 'https://medium.com/new-writers-welcome/what-is-mini-blogging-how-can-you-leverage-it-to-grow-your-digital-presence-bb4083d6698f', 'title': 'What Is Mini-blogging & How Can You Leverage It To Grow Your Digital Presence? | by Drashti Shroff | New Writers Welcome | Medium', 'description': 'Dear friends, my life as a creator has been enriching so far. Every day, I am learning something new, which is a refreshing experience. Lately, I have started adding another CTA at the bottom of my…'}, page_content='What Is Mini-blogging & How Can You Leverage It To Grow Your Digital Presence? | by Drashti Shroff | New Writers Welcome | MediumOpen in appSign upSign inWriteSign upSign inNew Writers Welcome·Supporting new writers to the Medium platformMember-only storyContentWhat Is Mini-blogging & How Can You Leverage It To Grow Your Digital Presence?It is concise, easy to create and consumeDrashti ShroffFollow4 min read·Aug 27, 2022--39SharePhoto by Leah Kelley:')],\n",
       " 'answer': \"<think>\\nOkay, so I'm trying to understand what mini-blogging is. From the context given, it seems like it's related to posting short content on social media platforms like Twitter or Medium. The user mentioned that a favorite writer asked them about mini-blogging and whether it's monetized. \\n\\nI remember that blogging typically involves longer, more detailed posts on a website. Mini-blogging must be the opposite—shorter and more concise. The context says it's about small, succinct chunks of content, usually under 200 words. That makes sense because social media platforms often have character limits or encourage shorter posts.\\n\\nThe writer, Drashti Shroff, explains that mini-blogging includes sharing single sentences, images, GIFs, infographics, videos, links, and audio clips. So it's not just text but can include various media types. This would make each post more engaging and easier to consume quickly.\\n\\nI also saw that mini-blogging is sometimes called micro-blogging. I think I've heard that term before, especially in relation to Twitter, where posts are limited to 280 characters. So, Twitter is a prime example of a micro-blogging platform.\\n\\nThe context mentions that many creators are shifting to mini-blogging for three good reasons, though the reasons aren't listed. I can guess that it's because shorter content is easier to create and faster to consume. With so much information available, people might prefer quick, digestible content over longer articles.\\n\\nThe article also talks about leveraging mini-blogging to grow a digital presence. That suggests that using these short posts can help increase one's following or engagement online. Maybe by posting more frequently with shorter content, creators can maintain a consistent presence without the pressure of writing long pieces.\\n\\nMonetization is another aspect. The original question was whether mini-blogging is monetized. The context doesn't provide a direct answer, but I suppose it's possible through ads, sponsored posts, or affiliate links, similar to how regular blogging is monetized. Platforms might have their own monetization policies, so it would depend on where the mini-blogging is done.\\n\\nI'm also thinking about how this applies to platforms like Medium. The article was published there, and Medium allows writers to post shorter content as well. So mini-blogging isn't limited to just Twitter but can be done on various social and blogging platforms.\\n\\nIn summary, mini-blogging seems to be about creating and sharing concise content on third-party websites. It's a way to engage audiences with shorter, more digestible information, which can be especially effective in today's fast-paced digital environment. It might also offer opportunities for monetization, though the specifics would vary depending on the platform used.\\n\\nI'm still a bit unclear on the exact monetization strategies for mini-blogging. Maybe it's through ad revenue, sponsored content, or using affiliate links within the short posts. It could also be a way to drive traffic to a main blog or website, thereby indirectly generating income through that site's monetization methods.\\n\\nOverall, understanding mini-blogging helps in seeing how different content strategies can be effective. It's about adapting to how people consume information now—quickly and on the go. So, instead of investing time in long-form content, creators can produce more frequent, bite-sized pieces that still convey value to their audience.\\n</think>\\n\\nMini-blogging, also known as micro-blogging, involves creating and sharing concise content, typically under 200 words, on social media platforms like Twitter, Medium, or other third-party websites. It includes various media such as text, images, GIFs, videos, and links, making it engaging and easy to consume quickly. This format is ideal for today's fast-paced digital environment, where audiences prefer digestible information.\\n\\nKey aspects of mini-blogging include:\\n\\n1. **Concise Content**: Short, succinct posts that are easier to create and consume.\\n2. **Engagement**: Utilizes multimedia to enhance engagement and capture attention quickly.\\n3. **Platform Versatility**: Can be done on various platforms, not just Twitter, but also Medium, allowing for diverse audience reach.\\n4. **Monetization Potential**: While specifics vary by platform, monetization can occur through ads, sponsored posts, affiliate links, or driving traffic to a main blog or website.\\n5. **Digital Presence Growth**: Consistent posting of short content can help maintain a strong online presence and increase following.\\n\\nIn essence, mini-blogging adapts to modern content consumption habits, offering creators a flexible and efficient way to engage audiences and potentially generate income.\"}"
      ]
     },
     "execution_count": 11,
     "metadata": {},
     "output_type": "execute_result"
    }
   ],
   "source": [
    "system_prompt=(\"You are an AI Assistant for question answering tasks. Use the below context to give ansswers\"\n",
    "               \n",
    "\n",
    "                    \"{context}\"\n",
    "               )\n",
    "prompts=ChatPromptTemplate.from_messages(\n",
    "    [\n",
    "        (\"system\",system_prompt),\n",
    "         (\"human\",\"{input}\")\n",
    "    ]\n",
    ")\n",
    "\n",
    "document_chain=create_stuff_documents_chain(model,prompt=prompts)\n",
    "ragchain=create_retrieval_chain(retriever,document_chain)\n",
    "response=ragchain.invoke({\"input\":\"What Is Mini-blogging\"})\n",
    "response\n",
    "\n",
    "\n",
    "\n",
    "\n",
    "\n",
    "\n",
    "\n",
    "\n",
    "\n"
   ]
  },
  {
   "cell_type": "code",
   "execution_count": null,
   "id": "2db29864",
   "metadata": {},
   "outputs": [],
   "source": [
    "from langchain.chains import create_history_aware_retriever\n",
    "from  langchain_core.prompts import MessagesPlaceholder\n",
    "\n",
    "\n",
    "\n",
    "\n"
   ]
  }
 ],
 "metadata": {
  "kernelspec": {
   "display_name": "myenv",
   "language": "python",
   "name": "python3"
  },
  "language_info": {
   "codemirror_mode": {
    "name": "ipython",
    "version": 3
   },
   "file_extension": ".py",
   "mimetype": "text/x-python",
   "name": "python",
   "nbconvert_exporter": "python",
   "pygments_lexer": "ipython3",
   "version": "3.10.16"
  }
 },
 "nbformat": 4,
 "nbformat_minor": 5
}
