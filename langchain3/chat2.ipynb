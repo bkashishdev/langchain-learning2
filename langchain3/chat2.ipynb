{
 "cells": [
  {
   "cell_type": "code",
   "execution_count": 2,
   "id": "352d6963",
   "metadata": {},
   "outputs": [],
   "source": [
    "import os\n",
    "from dotenv import load_dotenv\n",
    "load_dotenv()\n",
    "from langchain_groq import ChatGroq\n",
    "groqapikey=os.getenv(\"GROQ_API_KEY\")\n",
    "model=ChatGroq(model=\"deepseek-r1-distill-llama-70b\",api_key=groqapikey)\n",
    "\n",
    "\n"
   ]
  },
  {
   "cell_type": "code",
   "execution_count": 3,
   "id": "e810ad05",
   "metadata": {},
   "outputs": [],
   "source": [
    "from langchain_core.messages import HumanMessage, SystemMessage,AIMessage\n",
    "from langchain_community.chat_message_histories import ChatMessageHistory\n",
    "from langchain_core.chat_history import BaseChatMessageHistory\n",
    "from langchain_core.runnables.history import RunnableWithMessageHistory\n",
    "# model.invoke(\n",
    "\n",
    "#     [\n",
    "#         HumanMessage(content=\"Hi ,My name is ashish and I am a Full stack AI Engineer\"),\n",
    "#         AIMessage(content=\"Hello Ashish ,Its nice to meet you .As a ai Full stack engineer\"),\n",
    "#         HumanMessage(content=\"Hey wts my name?\")\n",
    "#     ]\n",
    "# )\n",
    "\n",
    "store={}\n",
    "def getsession_history(session_id:str)->BaseChatMessageHistory:\n",
    "    if session_id not in store:\n",
    "        store[session_id]=ChatMessageHistory()\n",
    "    return store[session_id]\n",
    "with_message_history=RunnableWithMessageHistory(model,get_session_history=getsession_history)\n",
    "\n",
    "\n",
    "\n",
    "\n",
    "\n",
    "\n",
    "\n"
   ]
  },
  {
   "cell_type": "code",
   "execution_count": 11,
   "id": "e0baf022",
   "metadata": {},
   "outputs": [
    {
     "data": {
      "text/plain": [
       "'<think>\\nAlright, let me see. The user is asking \"what is my name?\" again. They\\'ve asked this before, and I responded that I can\\'t access their personal info. Maybe they\\'re testing if I can remember past interactions, but I don\\'t have memory of individual users. They might be looking for a way to get their name from the system, but I don\\'t have access to that. Perhaps they\\'re trying to set up a name for themselves in some application, but I can\\'t help with that either. I should stick to my previous response, politely explaining my limitations again. Maybe suggest they check their device or account settings if they need their name for something specific. Keep it friendly and helpful without overstepping my capabilities.\\n</think>\\n\\nI don’t have access to personal information about you, including your name. If you’d like to share more about yourself, feel free! 😊'"
      ]
     },
     "execution_count": 11,
     "metadata": {},
     "output_type": "execute_result"
    }
   ],
   "source": [
    "config={\"configurable\":{\"session_id\":\"chat3\"}}\n",
    "resposne=with_message_history.invoke(\n",
    "\n",
    "    [\n",
    "        HumanMessage(content=\"what is my name ? \")\n",
    "    ],\n",
    "    config=config\n",
    "\n",
    ")\n",
    "resposne.content\n",
    "\n",
    "\n",
    "\n",
    "\n"
   ]
  },
  {
   "cell_type": "code",
   "execution_count": null,
   "id": "e91b1616",
   "metadata": {},
   "outputs": [],
   "source": []
  }
 ],
 "metadata": {
  "kernelspec": {
   "display_name": "myenv",
   "language": "python",
   "name": "python3"
  },
  "language_info": {
   "codemirror_mode": {
    "name": "ipython",
    "version": 3
   },
   "file_extension": ".py",
   "mimetype": "text/x-python",
   "name": "python",
   "nbconvert_exporter": "python",
   "pygments_lexer": "ipython3",
   "version": "3.10.16"
  }
 },
 "nbformat": 4,
 "nbformat_minor": 5
}
