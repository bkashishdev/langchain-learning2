{
 "cells": [
  {
   "cell_type": "code",
   "execution_count": 3,
   "id": "5b1adc40",
   "metadata": {},
   "outputs": [
    {
     "data": {
      "text/plain": [
       "'<think>\\nAlright, the user has asked me to act as a translator from English to Hindi. They provided a sentence: \"Hello how are you , today rcb won the ipl match.\" My task is to translate this into Hindi.\\n\\nFirst, I notice that the sentence is a friendly greeting followed by a statement about a cricket match. So, I need to ensure the translation maintains both the greeting and the excitement of the win.\\n\\n\"Hello how are you\" translates to \"नमस्ते आप कैसे हैं\" in Hindi. That\\'s straightforward.\\n\\nNext, \"today rcb won the ipl match.\" RCB stands for Royal Challengers Bangalore, which is a team in the Indian Premier League (IPL). In Hindi, IPL is often referred to as आईपीएल, and RCB is usually written as आरसीबी.\\n\\nSo, \"today RCB won the IPL match\" becomes \"आज आरसीबी ने आईपीएल मैच जीता।\" \\n\\nPutting it all together, the translated sentence would be: \"नमस्ते आप कैसे हैं, आज आरसीबी ने आईपीएल मैच जीता।\"\\n\\nI should double-check the translation to make sure it\\'s grammatically correct and conveys the right tone. It seems correct and natural.\\n</think>\\n\\nनमस्ते आप कैसे हैं, आज आरसीबी ने आईपीएल मैच जीता।'"
      ]
     },
     "execution_count": 3,
     "metadata": {},
     "output_type": "execute_result"
    }
   ],
   "source": [
    "from langchain_groq import  ChatGroq\n",
    "from langchain_core.messages import HumanMessage,SystemMessage\n",
    "messages=[\n",
    "\n",
    "    SystemMessage(content=\"you are a translator from english to hindi\"),\n",
    "    HumanMessage(content=\"Hello how are you , today rcb won the ipl match\")\n",
    "]\n",
    "from dotenv import load_dotenv\n",
    "load_dotenv()\n",
    "import os\n",
    "groqapikey=os.getenv(\"GROQ_API_KEY\")\n",
    "model=ChatGroq(model=\"deepseek-r1-distill-llama-70b\",api_key=groqapikey)\n",
    "# result=model.invoke(messages)\n",
    "from langchain_core.output_parsers import StrOutputParser\n",
    "parser=StrOutputParser()\n",
    "chain=model|parser\n",
    "chain.invoke(messages)\n",
    "\n",
    "\n",
    " \n",
    "\n"
   ]
  },
  {
   "cell_type": "code",
   "execution_count": 8,
   "id": "b8866859",
   "metadata": {},
   "outputs": [
    {
     "data": {
      "text/plain": [
       "'<think>\\n\\n</think>\\n\\nನೀವು ಹೇಗಿದ್ದೀರಿ ಅಣ್ಣ?'"
      ]
     },
     "execution_count": 8,
     "metadata": {},
     "output_type": "execute_result"
    }
   ],
   "source": [
    "generictemplate=\"Translate the following into {language}\"\n",
    "from langchain_core.prompts import ChatPromptTemplate\n",
    "prompts=ChatPromptTemplate.from_messages(\n",
    "\n",
    "    [\n",
    "        (\"system\",generictemplate),\n",
    "\n",
    "        (\"user\",\"{text}\")\n",
    "\n",
    "    ]\n",
    "\n",
    ")\n",
    "\n",
    "result=prompts.invoke({\"language\":\"hindi\",\"text\":\"How are you bro\"})\n",
    "result.to_messages()\n",
    "chain=prompts|model|parser\n",
    "chain.invoke({\"language\":\"Kannada\",\"text\":\"How are you bro\"})\n",
    "\n"
   ]
  },
  {
   "cell_type": "code",
   "execution_count": null,
   "id": "c153b2a7",
   "metadata": {},
   "outputs": [],
   "source": []
  }
 ],
 "metadata": {
  "kernelspec": {
   "display_name": "myenv",
   "language": "python",
   "name": "python3"
  },
  "language_info": {
   "codemirror_mode": {
    "name": "ipython",
    "version": 3
   },
   "file_extension": ".py",
   "mimetype": "text/x-python",
   "name": "python",
   "nbconvert_exporter": "python",
   "pygments_lexer": "ipython3",
   "version": "3.10.16"
  }
 },
 "nbformat": 4,
 "nbformat_minor": 5
}
