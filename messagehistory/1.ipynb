{
 "cells": [
  {
   "cell_type": "code",
   "execution_count": 1,
   "id": "a96e6e0b",
   "metadata": {},
   "outputs": [],
   "source": [
    "from dotenv import load_dotenv\n",
    "load_dotenv()\n",
    "import os \n",
    "groqapikey=os.getenv(\"GROQ_API_KEY\")\n",
    "from langchain_groq import ChatGroq\n",
    "model=ChatGroq(model=\"deepseek-r1-distill-llama-70b\",api_key=groqapikey)\n",
    "\n",
    "\n"
   ]
  },
  {
   "cell_type": "code",
   "execution_count": null,
   "id": "56b956e3",
   "metadata": {},
   "outputs": [
    {
     "data": {
      "text/plain": [
       "'<think>\\nOkay, the user is asking about how to give an introduction in 10 minutes. They mentioned they\\'re learning, so they might be new to this. I need to provide a clear, step-by-step guide.\\n\\nFirst, I should start by understanding the purpose of their intro. Are they introducing themselves, a topic, or someone else? The context matters because the structure will vary.\\n\\nThey might be preparing for a presentation, a class, or maybe a networking event. I should keep it general but useful for different scenarios.\\n\\nI\\'ll break it down into sections: purpose, structure, tips, and examples. That makes it easier to follow. Each section should have actionable steps.\\n\\nI should emphasize the importance of a strong opening and closing. Maybe suggest starting with a greeting and a hook to grab attention. Ending with a call to action or a memorable statement would help.\\n\\nI\\'ll include tips on body language and tone of voice since non-verbal cues are crucial in an intro. Practicing beforehand is also important, so I\\'ll mention that.\\n\\nIncluding an example could make it clearer. I\\'ll provide a sample intro that they can tailor to their needs.\\n\\nI need to keep the language simple and encouraging, avoiding any jargon. The user is learning, so it\\'s important to make the advice accessible.\\n\\nFinally, I\\'ll wrap it up by reinforcing that practice will help them feel more confident. Maybe add a note to let me know if they need more help.\\n</think>\\n\\nGiving a 10-minute introduction can seem challenging, but with some preparation and structure, you can deliver it effectively. Here\\'s a step-by-step guide to help you craft a great intro:\\n\\n### 1. **Start with a Purpose**\\n   - **What’s the goal?** Are you introducing yourself, a topic, or someone else? Knowing the purpose will help you stay focused.\\n   - For example, if you\\'re introducing yourself, focus on your key achievements, skills, and what makes you unique.\\n\\n### 2. **Structure Your Intro**\\n   - **Opening (1-2 minutes):**\\n     - **Greeting:** Start with a friendly hello or greeting.\\n     - **Hook:** Grab attention with a interesting fact, question, or personal story.\\n     - Example: \"Hello everyone! Did you know that [interesting fact]?\"\\n   - **Body (6-7 minutes):**\\n     - **Who you are:** Briefly introduce yourself, your background, or the topic.\\n     - **Key points:** Highlight 2-3 main points you want to share. Keep it concise and clear.\\n     - Example: \"My name is [Your Name], and I’m passionate about [your field/interest].\"\\n   - **Closing (1-2 minutes):**\\n     - **Summary:** Recap the main points or what you hope the audience takes away.\\n     - **Call to Action:** Encourage the audience to engage or think about the topic.\\n     - Example: \"Thank you for listening, and I hope you’ll join me in exploring [topic] further.\"\\n\\n### 3. **Tips for a Great Intro**\\n   - **Be Authentic:** Let your personality shine through. People connect with genuine energy.\\n   - **Keep it Simple:** Avoid jargon or overly complicated language. Speak clearly and confidently.\\n   - **Practice:** Rehearse your intro a few times in front of a mirror, friend, or family member. Time yourself to ensure it’s around 10 minutes.\\n   - **Body Language:** Make eye contact, stand tall, and use gestures to convey confidence.\\n   - **Pause:** Don’t rush. Take a deep breath and pause for emphasis when needed.\\n\\n### 4. **Example Intro Script**\\n   - **Opening:**\\n     - \"Good morning/afternoon everyone, and thank you for being here. My name is [Your Name], and I’m thrilled to introduce myself to you all today.\"\\n   - **Body:**\\n     - \"I’ve been passionate about [your field/interest] for [number of years], and I’ve had the opportunity to [briefly mention a key achievement or experience].\"\\n     - \"What drives me is [your motivation or goal], and I’m excited to share more about this with you.\"\\n   - **Closing:**\\n     - \"In the next few minutes, I’ll be sharing [what you’ll cover], and I hope you’ll find it as fascinating as I do. Thank you for your attention, and I look forward to your questions!\"\\n\\n### 5. **Final Thoughts**\\n   - **Relax:** Remember, it’s okay to be nervous. Focus on your message and connecting with the audience.\\n   - **Engage:** Smile, make eye contact, and show enthusiasm for your topic.\\n\\nWith practice, you’ll feel more confident and comfortable delivering your intro. Let me know if you need help refining your script! 😊'"
      ]
     },
     "execution_count": 3,
     "metadata": {},
     "output_type": "execute_result"
    }
   ],
   "source": [
    "from langchain_core.prompts import ChatPromptTemplate,MessagesPlaceholder\n",
    "from langchain_core.messages import HumanMessage\n",
    "from langchain_core.runnables.history import RunnableWithMessageHistory\n",
    "from langchain_community.chat_message_histories import ChatMessageHistory\n",
    "from langchain_core.chat_history import BaseChatMessageHistory\n",
    "\n",
    "store={}\n",
    "def getsession_history(session_id:str)->BaseChatMessageHistory:\n",
    "    if session_id not in store:\n",
    "        store[session_id]=ChatMessageHistory()\n",
    "    return store[session_id]\n",
    "with_message_history=RunnableWithMessageHistory(model,get_session_history=getsession_history)\n",
    "\n",
    "\n",
    "prompt=ChatPromptTemplate.from_messages(\n",
    "    [\n",
    "        (\"system\",\"You area helpful assistant all teh question to the most of the ability in {langauge }\"),\n",
    "        MessagesPlaceholder(variable_name=\"messages\")\n",
    "        \n",
    "    ]\n",
    ")\n",
    "chain=prompt|model\n",
    "\n",
    "# chain.invoke({\"messages\":[HumanMessage(content=\"Hi my anme is Krish\")]})\n",
    "\n",
    "with_message_history=RunnableWithMessageHistory(chain,get_session_history=getsession_history)\n",
    "config={\"configurable\":{\"session_id\":\"chat3\"}}\n",
    "\n",
    "resposne=with_message_history.invoke(\n",
    "\n",
    "    [\n",
    "        HumanMessage(content=\"HI bro i am learning how to give my intro in 10 minutes? \")\n",
    "    ],\n",
    "    config=config\n",
    "\n",
    ")\n",
    "resposne.content\n",
    "\n",
    "\n",
    "\n",
    "\n",
    "\n",
    "\n",
    "\n",
    "\n",
    "\n",
    "\n",
    "\n",
    "\n"
   ]
  },
  {
   "cell_type": "code",
   "execution_count": null,
   "id": "3466f25c",
   "metadata": {},
   "outputs": [],
   "source": []
  }
 ],
 "metadata": {
  "kernelspec": {
   "display_name": "myenv",
   "language": "python",
   "name": "python3"
  },
  "language_info": {
   "codemirror_mode": {
    "name": "ipython",
    "version": 3
   },
   "file_extension": ".py",
   "mimetype": "text/x-python",
   "name": "python",
   "nbconvert_exporter": "python",
   "pygments_lexer": "ipython3",
   "version": "3.10.16"
  }
 },
 "nbformat": 4,
 "nbformat_minor": 5
}
