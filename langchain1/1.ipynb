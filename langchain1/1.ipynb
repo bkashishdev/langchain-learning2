{
 "cells": [
  {
   "cell_type": "code",
   "execution_count": null,
   "id": "896c96e5",
   "metadata": {},
   "outputs": [
    {
     "name": "stderr",
     "output_type": "stream",
     "text": [
      "<>:10: SyntaxWarning: 'tuple' object is not callable; perhaps you missed a comma?\n",
      "<>:10: SyntaxWarning: 'tuple' object is not callable; perhaps you missed a comma?\n",
      "C:\\Users\\ASHISH\\AppData\\Local\\Temp\\ipykernel_13696\\1294285445.py:10: SyntaxWarning: 'tuple' object is not callable; perhaps you missed a comma?\n",
      "  (\"system\",\"you are a helpful assistant. Please respond to question asked in funny manner\")\n",
      "C:\\Users\\ASHISH\\AppData\\Local\\Temp\\ipykernel_13696\\1294285445.py:10: SyntaxWarning: 'tuple' object is not callable; perhaps you missed a comma?\n",
      "  (\"system\",\"you are a helpful assistant. Please respond to question asked in funny manner\")\n",
      "C:\\Users\\ASHISH\\AppData\\Local\\Temp\\ipykernel_13696\\1294285445.py:10: SyntaxWarning: 'tuple' object is not callable; perhaps you missed a comma?\n",
      "  (\"system\",\"you are a helpful assistant. Please respond to question asked in funny manner\")\n",
      "C:\\Users\\ASHISH\\AppData\\Local\\Temp\\ipykernel_13696\\1294285445.py:10: SyntaxWarning: 'tuple' object is not callable; perhaps you missed a comma?\n",
      "  (\"system\",\"you are a helpful assistant. Please respond to question asked in funny manner\")\n"
     ]
    },
    {
     "ename": "TypeError",
     "evalue": "'tuple' object is not callable",
     "output_type": "error",
     "traceback": [
      "\u001b[1;31m---------------------------------------------------------------------------\u001b[0m",
      "\u001b[1;31mTypeError\u001b[0m                                 Traceback (most recent call last)",
      "Cell \u001b[1;32mIn[1], line 10\u001b[0m\n\u001b[0;32m      6\u001b[0m \u001b[38;5;28;01mfrom\u001b[39;00m\u001b[38;5;250m \u001b[39m\u001b[38;5;21;01mlangchain_ollama\u001b[39;00m\u001b[38;5;21;01m.\u001b[39;00m\u001b[38;5;21;01mllms\u001b[39;00m\u001b[38;5;250m \u001b[39m\u001b[38;5;28;01mimport\u001b[39;00m OllamaLLM\n\u001b[0;32m      7\u001b[0m \u001b[38;5;28;01mfrom\u001b[39;00m\u001b[38;5;250m \u001b[39m\u001b[38;5;21;01mlangchain_core\u001b[39;00m\u001b[38;5;21;01m.\u001b[39;00m\u001b[38;5;21;01moutput_parsers\u001b[39;00m\u001b[38;5;250m \u001b[39m\u001b[38;5;28;01mimport\u001b[39;00m StrOutputParser\n\u001b[0;32m      8\u001b[0m prompts\u001b[38;5;241m=\u001b[39mChatPromptTemplate\u001b[38;5;241m.\u001b[39mfrom_messages(\n\u001b[0;32m      9\u001b[0m     [\n\u001b[1;32m---> 10\u001b[0m         \u001b[43m(\u001b[49m\u001b[38;5;124;43m\"\u001b[39;49m\u001b[38;5;124;43msystem\u001b[39;49m\u001b[38;5;124;43m\"\u001b[39;49m\u001b[43m,\u001b[49m\u001b[38;5;124;43m\"\u001b[39;49m\u001b[38;5;124;43myou are a helpful assistant. Please respond to question asked in funny manner\u001b[39;49m\u001b[38;5;124;43m\"\u001b[39;49m\u001b[43m)\u001b[49m\n\u001b[0;32m     11\u001b[0m \u001b[43m        \u001b[49m\u001b[43m(\u001b[49m\u001b[38;5;124;43m\"\u001b[39;49m\u001b[38;5;124;43muser\u001b[39;49m\u001b[38;5;124;43m\"\u001b[39;49m\u001b[43m,\u001b[49m\u001b[38;5;124;43m\"\u001b[39;49m\u001b[38;5;124;43mQuestion:\u001b[39;49m\u001b[38;5;132;43;01m{question}\u001b[39;49;00m\u001b[38;5;124;43m\"\u001b[39;49m\u001b[43m)\u001b[49m\n\u001b[0;32m     12\u001b[0m \n\u001b[0;32m     13\u001b[0m \n\u001b[0;32m     14\u001b[0m     ]\n\u001b[0;32m     15\u001b[0m )\n\u001b[0;32m     16\u001b[0m \u001b[38;5;28;01mimport\u001b[39;00m\u001b[38;5;250m \u001b[39m\u001b[38;5;21;01mstreamlit\u001b[39;00m\u001b[38;5;250m \u001b[39m\u001b[38;5;28;01mas\u001b[39;00m\u001b[38;5;250m \u001b[39m\u001b[38;5;21;01mst\u001b[39;00m \n\u001b[0;32m     17\u001b[0m st\u001b[38;5;241m.\u001b[39mtitle(\u001b[38;5;124m\"\u001b[39m\u001b[38;5;124mLangchain Demo with Gemmma Model\u001b[39m\u001b[38;5;124m\"\u001b[39m)\n",
      "\u001b[1;31mTypeError\u001b[0m: 'tuple' object is not callable"
     ]
    }
   ],
   "source": [
    "# from dotenv import load_dotenv\n",
    "# load_dotenv()\n",
    "# import os\n",
    "# os.environ['LANGCHAIN_API_KEY']=os.getenv('LANGCHAIN_API_KEY')\n",
    "# from langchain_core.prompts import ChatPromptTemplate\n",
    "# from langchain_ollama.llms import OllamaLLM\n",
    "# from langchain_community.llms import ollama\n",
    "# from langchain_core.output_parsers import StrOutputParser\n",
    "# prompts=ChatPromptTemplate.from_messages(\n",
    "#     [\n",
    "#         (\"system\",\"you are a helpful assistant. Please respond to question asked in funny manner\")\n",
    "#         (\"user\",\"Question:{question}\")\n",
    "\n",
    "\n",
    "#     ]\n",
    "# )\n",
    "# import streamlit as st\n",
    "# st.title(\"Langchain Demo with Gemmma Model\")\n",
    "# st.text_input\n",
    "# input=st.input(\"ENter your question\")\n",
    "# llm=OllamaLLM(model=\"gemma:2b\")\n",
    "# stroutputparser=StrOutputParser()\n",
    "# chain=llm|StrOutputParser\n",
    "# if input:\n",
    "#     print(chain.invoke({\"question\":input}))\n",
    "from dotenv import load_dotenv\n",
    "load_dotenv()\n",
    "\n",
    "import os\n",
    "from langchain_core.prompts import ChatPromptTemplate\n",
    "from langchain_community.llms import Ollama\n",
    "from langchain_core.output_parsers import StrOutputParser\n",
    "import streamlit as st\n",
    "\n",
    "# Set API key (optional for Ollama, usually local)\n",
    "os.environ['LANGCHAIN_API_KEY'] = os.getenv('LANGCHAIN_API_KEY')\n",
    "\n",
    "# 🧠 Create prompt template\n",
    "prompts = ChatPromptTemplate.from_messages([\n",
    "    (\"system\", \"You are a helpful assistant. Please respond to questions in a funny manner.\"),\n",
    "    (\"user\", \"Question: {question}\")\n",
    "])\n",
    "\n",
    "# 🎨 Streamlit UI\n",
    "st.title(\"Langchain Demo with Gemma Model\")\n",
    "user_input = st.text_input(\"Enter your question:\")\n",
    "\n",
    "# 🔧 Set up LLM and parser\n",
    "llm = Ollama(model=\"gemma:2b\")\n",
    "stroutputparser = StrOutputParser()\n",
    "\n",
    "# 🔗 Combine into a chain\n",
    "chain = prompts | llm | stroutputparser\n",
    "\n",
    "# 🚀 Run when input is given\n",
    "if user_input:\n",
    "    result = chain.invoke({\"question\": user_input})\n",
    "    st.write(result)\n",
    "\n",
    "\n",
    "\n",
    "\n",
    "\n",
    "\n",
    "\n",
    "\n",
    "\n",
    "\n",
    "\n",
    "\n",
    "\n"
   ]
  },
  {
   "cell_type": "code",
   "execution_count": null,
   "id": "aa93d294",
   "metadata": {},
   "outputs": [],
   "source": []
  }
 ],
 "metadata": {
  "kernelspec": {
   "display_name": "myenv",
   "language": "python",
   "name": "python3"
  },
  "language_info": {
   "codemirror_mode": {
    "name": "ipython",
    "version": 3
   },
   "file_extension": ".py",
   "mimetype": "text/x-python",
   "name": "python",
   "nbconvert_exporter": "python",
   "pygments_lexer": "ipython3",
   "version": "3.10.16"
  }
 },
 "nbformat": 4,
 "nbformat_minor": 5
}
